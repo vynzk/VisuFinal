{
 "cells": [
  {
   "cell_type": "code",
   "execution_count": 1,
   "metadata": {},
   "outputs": [],
   "source": [
    "import pandas as pd\n",
    "import plotly.express as px\n",
    "from dash import Dash, dcc, html\n",
    "from dash.dependencies import Input, Output"
   ]
  },
  {
   "cell_type": "code",
   "execution_count": 2,
   "metadata": {},
   "outputs": [],
   "source": [
    "data = pd.read_excel('Llamados2024.xlsx')"
   ]
  },
  {
   "cell_type": "markdown",
   "metadata": {},
   "source": [
    "1. Administrativos v/s Cantidad de pacientes contactados\n",
    "• En el estado inicial, sin filtros asignados, deberá mostrar el conteo ordenado de menor a mayor.\n",
    "• Este gráfico deberá permitir seleccionar, respecto a la cantidad, entre 3 categorías: Entre 0 a 4000, Entre\n",
    "4001 a 8000 y Entre 8001 en adelante.\n",
    "• Adicionalmente deberá existir un control que permitirá seleccionar el nombre de un administrativo, el que al\n",
    "activarse hará una comparación de él frente al promedio.\n",
    "\n",
    "2. Médicos v/s Horas Anuladas\n",
    "• En el estado inicial, sin filtros asignados, deberá mostrar el conteo de los promedios de cada médico,\n",
    "ordenado de menor a mayor.\n",
    "• Los controles por considerar son: Listado de Médicos (incluir un ítem “todos”), Dado Por (Web, Médico o\n",
    "Administrativo) y Meses. El control de Dado Por deberá filtrar la información de horas anuladas, pero que\n",
    "fueron “dadas por” el tipo de personal seleccionado.\n",
    "• En este gráfico los controles podrán ser “complementarios”, por lo que, por ejemplo, podría visualizar el\n",
    "listado de las horas anuladas que fueron dadas por un Administrativo en el mes de Julio.\n"
   ]
  },
  {
   "cell_type": "code",
   "execution_count": 5,
   "metadata": {},
   "outputs": [],
   "source": [
    "# Filter data to get the count of patients contacted by each administrative\n",
    "contacted_counts = data['contactadopor'].value_counts().reset_index()\n",
    "contacted_counts.columns = ['contactadopor', 'count']\n",
    "contacted_counts = contacted_counts.sort_values(by='count')\n"
   ]
  },
  {
   "cell_type": "code",
   "execution_count": 7,
   "metadata": {},
   "outputs": [
    {
     "data": {
      "text/html": [
       "\n",
       "        <iframe\n",
       "            width=\"100%\"\n",
       "            height=\"650\"\n",
       "            src=\"http://127.0.0.1:8050/\"\n",
       "            frameborder=\"0\"\n",
       "            allowfullscreen\n",
       "            \n",
       "        ></iframe>\n",
       "        "
      ],
      "text/plain": [
       "<IPython.lib.display.IFrame at 0x11b474dd190>"
      ]
     },
     "metadata": {},
     "output_type": "display_data"
    }
   ],
   "source": [
    "# Initialize the Dash app\n",
    "app = Dash(__name__)\n",
    "\n",
    "app.layout = html.Div([\n",
    "    html.H1(\"Administrativos v/s Cantidad de pacientes contactados\"),\n",
    "    dcc.Dropdown(\n",
    "        id='category-dropdown',\n",
    "        options=[\n",
    "            {'label': 'Sin filtro', 'value': 'all'},\n",
    "            {'label': 'Entre 0 a 4000', 'value': '0-4000'},\n",
    "            {'label': 'Entre 4001 a 8000', 'value': '4001-8000'},\n",
    "            {'label': 'Entre 8001 en adelante', 'value': '8001+'}\n",
    "        ],\n",
    "        value='all'\n",
    "    ),\n",
    "    dcc.Dropdown(\n",
    "        id='admin-dropdown',\n",
    "        options=[{'label': admin, 'value': admin} for admin in contacted_counts['contactadopor']],\n",
    "        placeholder=\"Select an administrative\"\n",
    "    ),\n",
    "    dcc.Graph(id='bar-graph')\n",
    "])\n",
    "\n",
    "@app.callback(\n",
    "    Output('bar-graph', 'figure'),\n",
    "    [Input('category-dropdown', 'value'),\n",
    "     Input('admin-dropdown', 'value')]\n",
    ")\n",
    "def update_graph(selected_category, selected_admin):\n",
    "    if selected_category == '0-4000':\n",
    "        filtered_data = contacted_counts[contacted_counts['count'] <= 4000]\n",
    "    elif selected_category == '4001-8000':\n",
    "        filtered_data = contacted_counts[(contacted_counts['count'] > 4000) & (contacted_counts['count'] <= 8000)]\n",
    "    elif selected_category == '8001+':\n",
    "        filtered_data = contacted_counts[contacted_counts['count'] > 8000]\n",
    "    else:\n",
    "        filtered_data = contacted_counts\n",
    "\n",
    "    fig = px.bar(filtered_data, x='contactadopor', y='count', title='Cantidad de pacientes contactados')\n",
    "\n",
    "    if selected_admin:\n",
    "        admin_count = contacted_counts[contacted_counts['contactadopor'] == selected_admin]['count'].values[0]\n",
    "        avg_count = contacted_counts['count'].mean()\n",
    "        fig.add_trace(px.bar(x=[selected_admin, 'Promedio'], y=[admin_count, avg_count], title='Comparación con el promedio').data[0])\n",
    "\n",
    "    return fig\n",
    "\n",
    "if __name__ == '__main__':\n",
    "    app.run_server(debug=True)"
   ]
  }
 ],
 "metadata": {
  "kernelspec": {
   "display_name": "venv",
   "language": "python",
   "name": "python3"
  },
  "language_info": {
   "codemirror_mode": {
    "name": "ipython",
    "version": 3
   },
   "file_extension": ".py",
   "mimetype": "text/x-python",
   "name": "python",
   "nbconvert_exporter": "python",
   "pygments_lexer": "ipython3",
   "version": "3.12.6"
  }
 },
 "nbformat": 4,
 "nbformat_minor": 2
}
